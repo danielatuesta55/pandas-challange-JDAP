{
 "cells": [
  {
   "cell_type": "markdown",
   "metadata": {},
   "source": [
    "Heroes Of Pymoli Challange"
   ]
  },
  {
   "cell_type": "markdown",
   "metadata": {},
   "source": [
    "Part 1: I need to import dependencies"
   ]
  },
  {
   "cell_type": "code",
   "execution_count": 1,
   "metadata": {},
   "outputs": [],
   "source": [
    "#Import dependencies \n",
    "import pandas as pd\n",
    "import numpy as np"
   ]
  },
  {
   "cell_type": "markdown",
   "metadata": {},
   "source": [
    "Part 2: I need to Reference the file and import the data to pandas."
   ]
  },
  {
   "cell_type": "code",
   "execution_count": 2,
   "metadata": {
    "jupyter": {
     "source_hidden": true
    }
   },
   "outputs": [
    {
     "data": {
      "text/html": [
       "<div>\n",
       "<style scoped>\n",
       "    .dataframe tbody tr th:only-of-type {\n",
       "        vertical-align: middle;\n",
       "    }\n",
       "\n",
       "    .dataframe tbody tr th {\n",
       "        vertical-align: top;\n",
       "    }\n",
       "\n",
       "    .dataframe thead th {\n",
       "        text-align: right;\n",
       "    }\n",
       "</style>\n",
       "<table border=\"1\" class=\"dataframe\">\n",
       "  <thead>\n",
       "    <tr style=\"text-align: right;\">\n",
       "      <th></th>\n",
       "      <th>Purchase ID</th>\n",
       "      <th>SN</th>\n",
       "      <th>Age</th>\n",
       "      <th>Gender</th>\n",
       "      <th>Item ID</th>\n",
       "      <th>Item Name</th>\n",
       "      <th>Price</th>\n",
       "    </tr>\n",
       "  </thead>\n",
       "  <tbody>\n",
       "    <tr>\n",
       "      <th>0</th>\n",
       "      <td>0</td>\n",
       "      <td>Lisim78</td>\n",
       "      <td>20</td>\n",
       "      <td>Male</td>\n",
       "      <td>108</td>\n",
       "      <td>Extraction, Quickblade Of Trembling Hands</td>\n",
       "      <td>3.53</td>\n",
       "    </tr>\n",
       "    <tr>\n",
       "      <th>1</th>\n",
       "      <td>1</td>\n",
       "      <td>Lisovynya38</td>\n",
       "      <td>40</td>\n",
       "      <td>Male</td>\n",
       "      <td>143</td>\n",
       "      <td>Frenzied Scimitar</td>\n",
       "      <td>1.56</td>\n",
       "    </tr>\n",
       "    <tr>\n",
       "      <th>2</th>\n",
       "      <td>2</td>\n",
       "      <td>Ithergue48</td>\n",
       "      <td>24</td>\n",
       "      <td>Male</td>\n",
       "      <td>92</td>\n",
       "      <td>Final Critic</td>\n",
       "      <td>4.88</td>\n",
       "    </tr>\n",
       "    <tr>\n",
       "      <th>3</th>\n",
       "      <td>3</td>\n",
       "      <td>Chamassasya86</td>\n",
       "      <td>24</td>\n",
       "      <td>Male</td>\n",
       "      <td>100</td>\n",
       "      <td>Blindscythe</td>\n",
       "      <td>3.27</td>\n",
       "    </tr>\n",
       "    <tr>\n",
       "      <th>4</th>\n",
       "      <td>4</td>\n",
       "      <td>Iskosia90</td>\n",
       "      <td>23</td>\n",
       "      <td>Male</td>\n",
       "      <td>131</td>\n",
       "      <td>Fury</td>\n",
       "      <td>1.44</td>\n",
       "    </tr>\n",
       "    <tr>\n",
       "      <th>...</th>\n",
       "      <td>...</td>\n",
       "      <td>...</td>\n",
       "      <td>...</td>\n",
       "      <td>...</td>\n",
       "      <td>...</td>\n",
       "      <td>...</td>\n",
       "      <td>...</td>\n",
       "    </tr>\n",
       "    <tr>\n",
       "      <th>775</th>\n",
       "      <td>775</td>\n",
       "      <td>Aethedru70</td>\n",
       "      <td>21</td>\n",
       "      <td>Female</td>\n",
       "      <td>60</td>\n",
       "      <td>Wolf</td>\n",
       "      <td>3.54</td>\n",
       "    </tr>\n",
       "    <tr>\n",
       "      <th>776</th>\n",
       "      <td>776</td>\n",
       "      <td>Iral74</td>\n",
       "      <td>21</td>\n",
       "      <td>Male</td>\n",
       "      <td>164</td>\n",
       "      <td>Exiled Doomblade</td>\n",
       "      <td>1.63</td>\n",
       "    </tr>\n",
       "    <tr>\n",
       "      <th>777</th>\n",
       "      <td>777</td>\n",
       "      <td>Yathecal72</td>\n",
       "      <td>20</td>\n",
       "      <td>Male</td>\n",
       "      <td>67</td>\n",
       "      <td>Celeste, Incarnation of the Corrupted</td>\n",
       "      <td>3.46</td>\n",
       "    </tr>\n",
       "    <tr>\n",
       "      <th>778</th>\n",
       "      <td>778</td>\n",
       "      <td>Sisur91</td>\n",
       "      <td>7</td>\n",
       "      <td>Male</td>\n",
       "      <td>92</td>\n",
       "      <td>Final Critic</td>\n",
       "      <td>4.19</td>\n",
       "    </tr>\n",
       "    <tr>\n",
       "      <th>779</th>\n",
       "      <td>779</td>\n",
       "      <td>Ennrian78</td>\n",
       "      <td>24</td>\n",
       "      <td>Male</td>\n",
       "      <td>50</td>\n",
       "      <td>Dawn</td>\n",
       "      <td>4.60</td>\n",
       "    </tr>\n",
       "  </tbody>\n",
       "</table>\n",
       "<p>780 rows × 7 columns</p>\n",
       "</div>"
      ],
      "text/plain": [
       "     Purchase ID             SN  Age  Gender  Item ID  \\\n",
       "0              0        Lisim78   20    Male      108   \n",
       "1              1    Lisovynya38   40    Male      143   \n",
       "2              2     Ithergue48   24    Male       92   \n",
       "3              3  Chamassasya86   24    Male      100   \n",
       "4              4      Iskosia90   23    Male      131   \n",
       "..           ...            ...  ...     ...      ...   \n",
       "775          775     Aethedru70   21  Female       60   \n",
       "776          776         Iral74   21    Male      164   \n",
       "777          777     Yathecal72   20    Male       67   \n",
       "778          778        Sisur91    7    Male       92   \n",
       "779          779      Ennrian78   24    Male       50   \n",
       "\n",
       "                                     Item Name  Price  \n",
       "0    Extraction, Quickblade Of Trembling Hands   3.53  \n",
       "1                            Frenzied Scimitar   1.56  \n",
       "2                                 Final Critic   4.88  \n",
       "3                                  Blindscythe   3.27  \n",
       "4                                         Fury   1.44  \n",
       "..                                         ...    ...  \n",
       "775                                       Wolf   3.54  \n",
       "776                           Exiled Doomblade   1.63  \n",
       "777      Celeste, Incarnation of the Corrupted   3.46  \n",
       "778                               Final Critic   4.19  \n",
       "779                                       Dawn   4.60  \n",
       "\n",
       "[780 rows x 7 columns]"
      ]
     },
     "execution_count": 2,
     "metadata": {},
     "output_type": "execute_result"
    }
   ],
   "source": [
    "# Reference the file where the CSV is located\n",
    "HeroesOfPymoli_csv_path = \"Resources/purchase_data.csv\"\n",
    "# Import the data into a Pandas DataFrame\n",
    "df = pd.read_csv(HeroesOfPymoli_csv_path)\n",
    "df"
   ]
  },
  {
   "cell_type": "markdown",
   "metadata": {},
   "source": [
    "Part 3: Initialy check if there are duplicated values in the set. I saw that there are duplicated values so I needed to count the unique total amount of players in the data set. I used the nunique function and saved it in the varibale uni_values_df"
   ]
  },
  {
   "cell_type": "code",
   "execution_count": 3,
   "metadata": {},
   "outputs": [
    {
     "data": {
      "text/plain": [
       "Purchase ID    780\n",
       "SN             780\n",
       "Age            780\n",
       "Gender         780\n",
       "Item ID        780\n",
       "Item Name      780\n",
       "Price          780\n",
       "dtype: int64"
      ]
     },
     "execution_count": 3,
     "metadata": {},
     "output_type": "execute_result"
    }
   ],
   "source": [
    "#As I have been manipulating the df I need to load my inital df again\n",
    "df = pd.read_csv(HeroesOfPymoli_csv_path)\n",
    "df\n",
    "#Initial check for fuplicated values\n",
    "df.count()"
   ]
  },
  {
   "cell_type": "code",
   "execution_count": 4,
   "metadata": {},
   "outputs": [
    {
     "data": {
      "text/html": [
       "<div>\n",
       "<style scoped>\n",
       "    .dataframe tbody tr th:only-of-type {\n",
       "        vertical-align: middle;\n",
       "    }\n",
       "\n",
       "    .dataframe tbody tr th {\n",
       "        vertical-align: top;\n",
       "    }\n",
       "\n",
       "    .dataframe thead th {\n",
       "        text-align: right;\n",
       "    }\n",
       "</style>\n",
       "<table border=\"1\" class=\"dataframe\">\n",
       "  <thead>\n",
       "    <tr style=\"text-align: right;\">\n",
       "      <th></th>\n",
       "      <th>Purchase ID</th>\n",
       "      <th>SN</th>\n",
       "      <th>Age</th>\n",
       "      <th>Gender</th>\n",
       "      <th>Item ID</th>\n",
       "      <th>Item Name</th>\n",
       "      <th>Price</th>\n",
       "    </tr>\n",
       "  </thead>\n",
       "  <tbody>\n",
       "    <tr>\n",
       "      <th>0</th>\n",
       "      <td>0</td>\n",
       "      <td>Lisim78</td>\n",
       "      <td>20</td>\n",
       "      <td>Male</td>\n",
       "      <td>108</td>\n",
       "      <td>Extraction, Quickblade Of Trembling Hands</td>\n",
       "      <td>3.53</td>\n",
       "    </tr>\n",
       "    <tr>\n",
       "      <th>1</th>\n",
       "      <td>1</td>\n",
       "      <td>Lisovynya38</td>\n",
       "      <td>40</td>\n",
       "      <td>Male</td>\n",
       "      <td>143</td>\n",
       "      <td>Frenzied Scimitar</td>\n",
       "      <td>1.56</td>\n",
       "    </tr>\n",
       "    <tr>\n",
       "      <th>2</th>\n",
       "      <td>2</td>\n",
       "      <td>Ithergue48</td>\n",
       "      <td>24</td>\n",
       "      <td>Male</td>\n",
       "      <td>92</td>\n",
       "      <td>Final Critic</td>\n",
       "      <td>4.88</td>\n",
       "    </tr>\n",
       "    <tr>\n",
       "      <th>3</th>\n",
       "      <td>3</td>\n",
       "      <td>Chamassasya86</td>\n",
       "      <td>24</td>\n",
       "      <td>Male</td>\n",
       "      <td>100</td>\n",
       "      <td>Blindscythe</td>\n",
       "      <td>3.27</td>\n",
       "    </tr>\n",
       "    <tr>\n",
       "      <th>4</th>\n",
       "      <td>4</td>\n",
       "      <td>Iskosia90</td>\n",
       "      <td>23</td>\n",
       "      <td>Male</td>\n",
       "      <td>131</td>\n",
       "      <td>Fury</td>\n",
       "      <td>1.44</td>\n",
       "    </tr>\n",
       "    <tr>\n",
       "      <th>...</th>\n",
       "      <td>...</td>\n",
       "      <td>...</td>\n",
       "      <td>...</td>\n",
       "      <td>...</td>\n",
       "      <td>...</td>\n",
       "      <td>...</td>\n",
       "      <td>...</td>\n",
       "    </tr>\n",
       "    <tr>\n",
       "      <th>773</th>\n",
       "      <td>773</td>\n",
       "      <td>Hala31</td>\n",
       "      <td>21</td>\n",
       "      <td>Male</td>\n",
       "      <td>19</td>\n",
       "      <td>Pursuit, Cudgel of Necromancy</td>\n",
       "      <td>1.02</td>\n",
       "    </tr>\n",
       "    <tr>\n",
       "      <th>774</th>\n",
       "      <td>774</td>\n",
       "      <td>Jiskjask80</td>\n",
       "      <td>11</td>\n",
       "      <td>Male</td>\n",
       "      <td>92</td>\n",
       "      <td>Final Critic</td>\n",
       "      <td>4.19</td>\n",
       "    </tr>\n",
       "    <tr>\n",
       "      <th>775</th>\n",
       "      <td>775</td>\n",
       "      <td>Aethedru70</td>\n",
       "      <td>21</td>\n",
       "      <td>Female</td>\n",
       "      <td>60</td>\n",
       "      <td>Wolf</td>\n",
       "      <td>3.54</td>\n",
       "    </tr>\n",
       "    <tr>\n",
       "      <th>777</th>\n",
       "      <td>777</td>\n",
       "      <td>Yathecal72</td>\n",
       "      <td>20</td>\n",
       "      <td>Male</td>\n",
       "      <td>67</td>\n",
       "      <td>Celeste, Incarnation of the Corrupted</td>\n",
       "      <td>3.46</td>\n",
       "    </tr>\n",
       "    <tr>\n",
       "      <th>778</th>\n",
       "      <td>778</td>\n",
       "      <td>Sisur91</td>\n",
       "      <td>7</td>\n",
       "      <td>Male</td>\n",
       "      <td>92</td>\n",
       "      <td>Final Critic</td>\n",
       "      <td>4.19</td>\n",
       "    </tr>\n",
       "  </tbody>\n",
       "</table>\n",
       "<p>576 rows × 7 columns</p>\n",
       "</div>"
      ],
      "text/plain": [
       "     Purchase ID             SN  Age  Gender  Item ID  \\\n",
       "0              0        Lisim78   20    Male      108   \n",
       "1              1    Lisovynya38   40    Male      143   \n",
       "2              2     Ithergue48   24    Male       92   \n",
       "3              3  Chamassasya86   24    Male      100   \n",
       "4              4      Iskosia90   23    Male      131   \n",
       "..           ...            ...  ...     ...      ...   \n",
       "773          773         Hala31   21    Male       19   \n",
       "774          774     Jiskjask80   11    Male       92   \n",
       "775          775     Aethedru70   21  Female       60   \n",
       "777          777     Yathecal72   20    Male       67   \n",
       "778          778        Sisur91    7    Male       92   \n",
       "\n",
       "                                     Item Name  Price  \n",
       "0    Extraction, Quickblade Of Trembling Hands   3.53  \n",
       "1                            Frenzied Scimitar   1.56  \n",
       "2                                 Final Critic   4.88  \n",
       "3                                  Blindscythe   3.27  \n",
       "4                                         Fury   1.44  \n",
       "..                                         ...    ...  \n",
       "773              Pursuit, Cudgel of Necromancy   1.02  \n",
       "774                               Final Critic   4.19  \n",
       "775                                       Wolf   3.54  \n",
       "777      Celeste, Incarnation of the Corrupted   3.46  \n",
       "778                               Final Critic   4.19  \n",
       "\n",
       "[576 rows x 7 columns]"
      ]
     },
     "execution_count": 4,
     "metadata": {},
     "output_type": "execute_result"
    }
   ],
   "source": [
    "#Since there are duplicated values I created a new variable and stored only unique values\n",
    "uni_values_df = df.drop_duplicates(subset='SN')\n",
    "uni_values_df"
   ]
  },
  {
   "cell_type": "code",
   "execution_count": 5,
   "metadata": {},
   "outputs": [
    {
     "data": {
      "text/plain": [
       "Purchase ID    576\n",
       "SN             576\n",
       "Age            576\n",
       "Gender         576\n",
       "Item ID        576\n",
       "Item Name      576\n",
       "Price          576\n",
       "dtype: int64"
      ]
     },
     "execution_count": 5,
     "metadata": {},
     "output_type": "execute_result"
    }
   ],
   "source": [
    "#I reviwed the new amounts to check the values were dropped. Initial value = 780 after dropping duplicates = 576\n",
    "uni_values_df.count()"
   ]
  },
  {
   "cell_type": "markdown",
   "metadata": {},
   "source": [
    "Part 4: After getting the unique values I displayed the total amount of players in a dataframe called Total_Players_df"
   ]
  },
  {
   "cell_type": "code",
   "execution_count": 6,
   "metadata": {},
   "outputs": [
    {
     "data": {
      "text/html": [
       "<div>\n",
       "<style scoped>\n",
       "    .dataframe tbody tr th:only-of-type {\n",
       "        vertical-align: middle;\n",
       "    }\n",
       "\n",
       "    .dataframe tbody tr th {\n",
       "        vertical-align: top;\n",
       "    }\n",
       "\n",
       "    .dataframe thead th {\n",
       "        text-align: right;\n",
       "    }\n",
       "</style>\n",
       "<table border=\"1\" class=\"dataframe\">\n",
       "  <thead>\n",
       "    <tr style=\"text-align: right;\">\n",
       "      <th></th>\n",
       "      <th>Total Players</th>\n",
       "    </tr>\n",
       "  </thead>\n",
       "  <tbody>\n",
       "    <tr>\n",
       "      <th>0</th>\n",
       "      <td>576</td>\n",
       "    </tr>\n",
       "  </tbody>\n",
       "</table>\n",
       "</div>"
      ],
      "text/plain": [
       "   Total Players\n",
       "0            576"
      ]
     },
     "execution_count": 6,
     "metadata": {},
     "output_type": "execute_result"
    }
   ],
   "source": [
    "#On supervision on March 8 2021, with Tren Littel (my tutor) we reviwed the the statement .DataFrame and the used for it.\n",
    "Total_Players_df = pd.DataFrame([{\"Total Players\": df[\"SN\"].nunique()}])\n",
    "Total_Players_df"
   ]
  },
  {
   "cell_type": "markdown",
   "metadata": {},
   "source": [
    "Part 5: Purchasing Analysis (Total)\n",
    "\n",
    "The following challanges needed to be accomplished:\n",
    "    1. Run basic calculations to obtain number of unique items, average price, etc.\n",
    "    2. Create a summary data frame to hold the results\n",
    "    3. Optional: give the displayed data cleaner formatting\n",
    "    4. Display the summary data frame"
   ]
  },
  {
   "cell_type": "code",
   "execution_count": 7,
   "metadata": {},
   "outputs": [
    {
     "data": {
      "text/html": [
       "<style  type=\"text/css\" >\n",
       "</style><table id=\"T_9d0f90eb_81d6_11eb_858d_401c83cb71a3\" ><thead>    <tr>        <th class=\"blank level0\" ></th>        <th class=\"col_heading level0 col0\" >Number of Unique Items</th>        <th class=\"col_heading level0 col1\" >Average Price</th>        <th class=\"col_heading level0 col2\" >Number of Purchases</th>        <th class=\"col_heading level0 col3\" >Total Revenue</th>    </tr></thead><tbody>\n",
       "                <tr>\n",
       "                        <th id=\"T_9d0f90eb_81d6_11eb_858d_401c83cb71a3level0_row0\" class=\"row_heading level0 row0\" >0</th>\n",
       "                        <td id=\"T_9d0f90eb_81d6_11eb_858d_401c83cb71a3row0_col0\" class=\"data row0 col0\" >179</td>\n",
       "                        <td id=\"T_9d0f90eb_81d6_11eb_858d_401c83cb71a3row0_col1\" class=\"data row0 col1\" >$3.05</td>\n",
       "                        <td id=\"T_9d0f90eb_81d6_11eb_858d_401c83cb71a3row0_col2\" class=\"data row0 col2\" >780</td>\n",
       "                        <td id=\"T_9d0f90eb_81d6_11eb_858d_401c83cb71a3row0_col3\" class=\"data row0 col3\" >$2,379.77</td>\n",
       "            </tr>\n",
       "    </tbody></table>"
      ],
      "text/plain": [
       "<pandas.io.formats.style.Styler at 0x17674d87280>"
      ]
     },
     "execution_count": 7,
     "metadata": {},
     "output_type": "execute_result"
    }
   ],
   "source": [
    "# I created varibales to hold the values to later create the summary table with them. I needed to go back and look at the decimal places that were used in the solution. To be able to match the solution format I decided to use the method round()\n",
    "ItemCount = df[\"Item ID\"].nunique()\n",
    "AveragePrice = round(df[\"Price\"].mean(),2)\n",
    "PurchasedNumber = df[\"Purchase ID\"].count()\n",
    "Revenue = round(df[\"Price\"].sum(),2)\n",
    "\n",
    "#After I created the variables I need to store them in a summary table like so:\n",
    "SummaryTable_df = pd.DataFrame([{\"Number of Unique Items\": ItemCount, \"Average Price\": AveragePrice, \"Number of Purchases\": PurchasedNumber, \"Total Revenue\": Revenue}])\n",
    "SummaryTable_df.style.format({'Average Price':\"${:,.2f}\",\n",
    "                         'Total Revenue': '${:,.2f}'})\n"
   ]
  },
  {
   "cell_type": "markdown",
   "metadata": {},
   "source": [
    "Part 6: I created a summary table for gender output that displayed the following:\n",
    "    1. Percentage and Count of Male Players\n",
    "    2. Percentage and Count of Female Players\n",
    "    3. Percentage and Count of Other / Non-Disclosed"
   ]
  },
  {
   "cell_type": "code",
   "execution_count": 8,
   "metadata": {},
   "outputs": [
    {
     "data": {
      "text/html": [
       "<div>\n",
       "<style scoped>\n",
       "    .dataframe tbody tr th:only-of-type {\n",
       "        vertical-align: middle;\n",
       "    }\n",
       "\n",
       "    .dataframe tbody tr th {\n",
       "        vertical-align: top;\n",
       "    }\n",
       "\n",
       "    .dataframe thead th {\n",
       "        text-align: right;\n",
       "    }\n",
       "</style>\n",
       "<table border=\"1\" class=\"dataframe\">\n",
       "  <thead>\n",
       "    <tr style=\"text-align: right;\">\n",
       "      <th></th>\n",
       "      <th>Total Count</th>\n",
       "      <th>Percentage of Players</th>\n",
       "    </tr>\n",
       "  </thead>\n",
       "  <tbody>\n",
       "    <tr>\n",
       "      <th>Male</th>\n",
       "      <td>484</td>\n",
       "      <td>84.03%</td>\n",
       "    </tr>\n",
       "    <tr>\n",
       "      <th>Female</th>\n",
       "      <td>81</td>\n",
       "      <td>14.06%</td>\n",
       "    </tr>\n",
       "    <tr>\n",
       "      <th>Other / Non-Disclosed</th>\n",
       "      <td>11</td>\n",
       "      <td>1.91%</td>\n",
       "    </tr>\n",
       "  </tbody>\n",
       "</table>\n",
       "</div>"
      ],
      "text/plain": [
       "                       Total Count Percentage of Players\n",
       "Male                           484                84.03%\n",
       "Female                          81                14.06%\n",
       "Other / Non-Disclosed           11                 1.91%"
      ]
     },
     "execution_count": 8,
     "metadata": {},
     "output_type": "execute_result"
    }
   ],
   "source": [
    "# I initially needed to find the unique value of each 'Gender' \n",
    "GenderCount = uni_values_df[\"Gender\"].value_counts()\n",
    "#Print(GenderCount) to check values are unique and total of values\n",
    "#Create a new variable GenderPercent and store values form df\n",
    "GenderPercentage = GenderCount/uni_values_df['Gender'].count()*100\n",
    "#I then identyfied the percentage of total players for the 3 types of gender offered\n",
    "GenderAnalysis_df = pd.DataFrame({\"Total Count\": GenderCount, \"Percentage of Players\": GenderPercentage.map(\"{:.2f}%\".format)})\n",
    "GenderAnalysis_df"
   ]
  },
  {
   "cell_type": "markdown",
   "metadata": {},
   "source": [
    "Part 7: Purchasing Analysis (Gender)\n",
    "\n",
    "For this portion of the assignment I had to accomplish the following:\n",
    "    1. Run basic calculations to obtain purchase count, avg. purchase price, avg. purchase total per person etc. by gender\n",
    "    2. Create a summary data frame to hold the results\n",
    "    3. Optional: give the displayed data cleaner formatting\n",
    "    4. Display the summary data frame"
   ]
  },
  {
   "cell_type": "code",
   "execution_count": 9,
   "metadata": {},
   "outputs": [],
   "source": [
    "# using the Groupby method I grouped the purchase data togheter by gender \n",
    "GroupedGenders = df.groupby('Gender')\n"
   ]
  },
  {
   "cell_type": "code",
   "execution_count": 13,
   "metadata": {},
   "outputs": [
    {
     "data": {
      "text/html": [
       "<style  type=\"text/css\" >\n",
       "</style><table id=\"T_5375b1ad_81d7_11eb_aae7_401c83cb71a3\" ><thead>    <tr>        <th class=\"blank level0\" ></th>        <th class=\"col_heading level0 col0\" >Purchase Count</th>        <th class=\"col_heading level0 col1\" >Average Purchase Price</th>        <th class=\"col_heading level0 col2\" >Total Purchase Value</th>        <th class=\"col_heading level0 col3\" >Avg Total Purchase per Person</th>    </tr>    <tr>        <th class=\"index_name level0\" >Gender</th>        <th class=\"blank\" ></th>        <th class=\"blank\" ></th>        <th class=\"blank\" ></th>        <th class=\"blank\" ></th>    </tr></thead><tbody>\n",
       "                <tr>\n",
       "                        <th id=\"T_5375b1ad_81d7_11eb_aae7_401c83cb71a3level0_row0\" class=\"row_heading level0 row0\" >Female</th>\n",
       "                        <td id=\"T_5375b1ad_81d7_11eb_aae7_401c83cb71a3row0_col0\" class=\"data row0 col0\" >113</td>\n",
       "                        <td id=\"T_5375b1ad_81d7_11eb_aae7_401c83cb71a3row0_col1\" class=\"data row0 col1\" >$3.20</td>\n",
       "                        <td id=\"T_5375b1ad_81d7_11eb_aae7_401c83cb71a3row0_col2\" class=\"data row0 col2\" >$361.94</td>\n",
       "                        <td id=\"T_5375b1ad_81d7_11eb_aae7_401c83cb71a3row0_col3\" class=\"data row0 col3\" >$4.47</td>\n",
       "            </tr>\n",
       "            <tr>\n",
       "                        <th id=\"T_5375b1ad_81d7_11eb_aae7_401c83cb71a3level0_row1\" class=\"row_heading level0 row1\" >Male</th>\n",
       "                        <td id=\"T_5375b1ad_81d7_11eb_aae7_401c83cb71a3row1_col0\" class=\"data row1 col0\" >652</td>\n",
       "                        <td id=\"T_5375b1ad_81d7_11eb_aae7_401c83cb71a3row1_col1\" class=\"data row1 col1\" >$3.02</td>\n",
       "                        <td id=\"T_5375b1ad_81d7_11eb_aae7_401c83cb71a3row1_col2\" class=\"data row1 col2\" >$1,967.64</td>\n",
       "                        <td id=\"T_5375b1ad_81d7_11eb_aae7_401c83cb71a3row1_col3\" class=\"data row1 col3\" >$4.07</td>\n",
       "            </tr>\n",
       "            <tr>\n",
       "                        <th id=\"T_5375b1ad_81d7_11eb_aae7_401c83cb71a3level0_row2\" class=\"row_heading level0 row2\" >Other / Non-Disclosed</th>\n",
       "                        <td id=\"T_5375b1ad_81d7_11eb_aae7_401c83cb71a3row2_col0\" class=\"data row2 col0\" >15</td>\n",
       "                        <td id=\"T_5375b1ad_81d7_11eb_aae7_401c83cb71a3row2_col1\" class=\"data row2 col1\" >$3.35</td>\n",
       "                        <td id=\"T_5375b1ad_81d7_11eb_aae7_401c83cb71a3row2_col2\" class=\"data row2 col2\" >$50.19</td>\n",
       "                        <td id=\"T_5375b1ad_81d7_11eb_aae7_401c83cb71a3row2_col3\" class=\"data row2 col3\" >$4.56</td>\n",
       "            </tr>\n",
       "    </tbody></table>"
      ],
      "text/plain": [
       "<pandas.io.formats.style.Styler at 0x17674d809a0>"
      ]
     },
     "execution_count": 13,
     "metadata": {},
     "output_type": "execute_result"
    }
   ],
   "source": [
    "#I identifyed the number of purchases made by each gender\n",
    "PurchaseCount = GroupedGenders['Purchase ID'].count()\n",
    "\n",
    "#Average per gender\n",
    "AveragePerGender = (GroupedGenders[\"Price\"].mean())\n",
    "\n",
    "# Mean total per gender\n",
    "MeanPurchaseGender = round(GroupedGenders['Price'].sum(),2)\n",
    "\n",
    "# Mean per person\n",
    "MeanPerPerson = MeanPurchaseGender/GenderCount\n",
    "\n",
    "#Create Summary table for purchansing data by gender\n",
    "Purchansing_Analysis_Gender_df = pd.DataFrame({\"Purchase Count\": PurchaseCount, \n",
    "                                               \"Average Purchase Price\": AveragePerGender, \n",
    "                                               \"Total Purchase Value\": MeanPurchaseGender, \n",
    "                                               \"Avg Total Purchase per Person\": MeanPerPerson})\n",
    "#index left = gender\n",
    "Purchansing_Analysis_Gender_df.index.name = \"Gender\"\n",
    "\n",
    "#Format with currency style\n",
    "Purchansing_Analysis_Gender_df.style.format({\"Total Purchase Value\":\"${:,.2f}\",\n",
    "                                  \"Average Purchase Price\":\"${:,.2f}\",\n",
    "                                  \"Avg Total Purchase per Person\":\"${:,.2f}\"})"
   ]
  },
  {
   "cell_type": "code",
   "execution_count": 11,
   "metadata": {
    "scrolled": true
   },
   "outputs": [],
   "source": [
    "#I created the summary table fot the Purchansing Analysis in another format! \n",
    "\n",
    "#Purchansing_Analysis_Gender_df = pd.DataFrame({\"Purchase Count\": PurchaseCount, \"Average Purchase Price\": AveragePerGender, \"Total Purchase Value\": TotalAmountGender, \"Avg Total Purchase per Person\": AveragePersonSpentGender})\n",
    "#Purchansing_Analysis_Gender_df.loc[:, \"Average Purchase Price\"] = Purchansing_Analysis_Gender_df[\"Average Purchase Price\"].map(lambda x: '$' + str(x))\n",
    "#Purchansing_Analysis_Gender_df.loc[:, \"Total Purchase Value\"] = Purchansing_Analysis_Gender_df[\"Total Purchase Value\"].map(lambda x: '$' + str(x))\n",
    "#Purchansing_Analysis_Gender_df.loc[:, \"Avg Total Purchase per Person\"] = Purchansing_Analysis_Gender_df[\"Avg Total Purchase per Person\"].map(lambda x: '$' + str(x))\n",
    "#Purchansing_Analysis_Gender_df"
   ]
  },
  {
   "cell_type": "markdown",
   "metadata": {},
   "source": [
    "Part 8: Age demographics\n",
    "\n",
    "For this portion of the homework I had to accomplish the following tasks:\n",
    "    1.Establish bins for ages\n",
    "    2.Categorize the existing players using the age bins. Hint: use pd.cut()\n",
    "    3.Calculate the numbers and percentages by age group\n",
    "    4.Create a summary data frame to hold the results\n",
    "    5.Optional: round the percentage column to two decimal points\n",
    "    6.Display Age Demographics Table"
   ]
  },
  {
   "cell_type": "code",
   "execution_count": null,
   "metadata": {},
   "outputs": [],
   "source": [
    "# I created a variable that would store the highest value of 'age'\n",
    "HighestAge = df['Age'].max()\n",
    "#Printed statment to see code run: print(HighestAge)\n",
    "# I than set the bins and Labels every 4 years \n",
    "bins = [0,9.99,14.99,19.99,24.99,29.99,34.99,39.99,HighestAge]\n",
    "labels = ['<10', '10-14','15-19','20-24','25-29','30-34','35-39','40+']\n",
    "\n",
    "#Using the 'cut' method I created the bins column in the data frame\n",
    "df['age_bins']=pd.cut(x=df['Age'], bins=bins)\n",
    "\n",
    "#Using the 'cut' method I created the label columns in the data frame\n",
    "df['age_labels'] = pd.cut(x=df['Age'], bins=bins, labels=labels) #I took a long time debugging this portion of the code thanks to a spelling mistake of labels!!\n",
    "\n",
    "#Store the updated df in the unique users df\n",
    "uni_values_df = df.drop_duplicates(subset='SN')\n"
   ]
  },
  {
   "cell_type": "code",
   "execution_count": null,
   "metadata": {},
   "outputs": [],
   "source": [
    "#I proceeded to count te unique users for each age range\n",
    "AgeCounts= uni_values_df[\"age_labels\"].value_counts()\n",
    "\n",
    "#Then I calculated the percentage of all unique users for each age range\n",
    "AgePercentage = AgeCounts/uni_values_df['SN'].count()*100"
   ]
  },
  {
   "cell_type": "code",
   "execution_count": null,
   "metadata": {},
   "outputs": [],
   "source": [
    "#I created the summary table to showcase the age demographics analysis as follows:\n",
    "AgeDemographics_df = pd.DataFrame({\"Total Count\": AgeCounts, \"Percentage of Players\": AgePercentage.map(\"{:.2f}%\".format)})\n",
    "\n",
    "#I sorted the table by the index value using sort_index() method\n",
    "AgeDemographics_df.sort_index() #I guided myself with a linked in course called Pandas Essential Trainig by Jonathan Fernandes. Teh specific section of the video was 6.Indexing and the Using sort_index()"
   ]
  },
  {
   "cell_type": "markdown",
   "metadata": {},
   "source": [
    "Part 9: Purchasing Analysis (AGE)\n",
    "\n",
    "For this portion of the challange I had to achive the following tasks:\n",
    "    1. Bin the purchase_data data frame by age\n",
    "    2. Run basic calculations to obtain purchase count, avg. purchase price, avg. purchase total per person etc. in the table below\n",
    "    3. Create a summary data frame to hold the results\n",
    "    4. Optional: give the displayed data cleaner formatting\n",
    "    5. Display the summary data frame"
   ]
  },
  {
   "cell_type": "code",
   "execution_count": null,
   "metadata": {},
   "outputs": [],
   "source": [
    "#I created a variable that grouped by age_labels from the df\n",
    "GroupedAges = df.groupby([\"age_labels\"])"
   ]
  },
  {
   "cell_type": "code",
   "execution_count": null,
   "metadata": {},
   "outputs": [],
   "source": [
    "#I created a variable with the unique values that grouped by age_labels from the df\n",
    "UniGroupedAges = uni_values_df.groupby([\"age_labels\"])"
   ]
  },
  {
   "cell_type": "code",
   "execution_count": null,
   "metadata": {},
   "outputs": [],
   "source": [
    "#I found the number of purchases made by each age group. I need to be able to do it by group not in general\n",
    "AgePurchaseCount = GroupedAges[\"Purchase ID\"].count()\n",
    "\n",
    "#Then found the average amount spent by each age group\n",
    "AgeAvgPurchases= GroupedAges[\"Price\"].mean()\n",
    "\n",
    "#Then I found the total amount spent by each age group\n",
    "AgeTotalPurchases= GroupedAges['Price'].sum()\n",
    "\n",
    "#Then find amount spent by each unique user of each age group\n",
    "AgeAvgPerAgeGroup = AgeTotalPurchases/UniGroupedAges[\"SN\"].nunique()\n"
   ]
  },
  {
   "cell_type": "code",
   "execution_count": null,
   "metadata": {},
   "outputs": [],
   "source": [
    "#I created the Data Frame for the summary data on gender data\n",
    "#AgeAnalysis_df = pd.DataFrame({\"Purchase Count\": AgePurchaseCount, \"Average Purchase Price\": AgeAvgPurchases.map(\"${:.2f}\".format), \"Total Purchase Value\": AgeTotalPurchases.map(\"${:,.2f}\".format, \"Avg Total Purchase per Person\": AgeAvgPerAgeGroup.map(\"${:.2f}\".format))\n",
    "#AgeAnalysis_df      \n",
    "AgeAnalysis_df = pd.DataFrame({\"Purchase Count\": AgePurchaseCount, \"Average Purchase Price\": AgeAvgPurchases.map(\"${:.2f}\".format), \"Total Purhase Value\": AgeTotalPurchases.map(\"${:,.2f}\".format), \"Avg Total Purchase per Person\": AgeAvgPerAgeGroup.map(\"${:.2f}\".format)})\n",
    "AgeAnalysis_df                               "
   ]
  },
  {
   "cell_type": "markdown",
   "metadata": {},
   "source": [
    "Part 10: Top Spenders \n",
    "\n",
    "For this part I faced the following challanges: \n",
    "    1.Run basic calculations to obtain the results in the table below\n",
    "    2.Create a summary data frame to hold the results\n",
    "    3.Sort the total purchase value column in descending order\n",
    "    4.Optional: give the displayed data cleaner formatting\n",
    "    5.Display a preview of the summary data frame"
   ]
  },
  {
   "cell_type": "code",
   "execution_count": null,
   "metadata": {},
   "outputs": [],
   "source": [
    "#Create a spenders variable that will hold the group y df(\"SN\")\n",
    "Spender = df.groupby(\"SN\")\n",
    "\n",
    "#I counted the total purchases per name (Purchase ID)\n",
    "PurchaseCount = Spender[\"Purchase ID\"].count()\n",
    "\n",
    "#I than got the mean by name\n",
    "AvgPurchasePriceSpender = Spender[\"Price\"].mean()\n",
    "\n",
    "#Then I got the total of the purchases by name\n",
    "PurchaseTotalSpender = Spender[\"Price\"].sum()\n"
   ]
  },
  {
   "cell_type": "code",
   "execution_count": null,
   "metadata": {},
   "outputs": [],
   "source": [
    "#Then I created the summary table Data Frame for spender\n",
    "TopSpenders = pd.DataFrame({\"Purchase Count\": PurchaseCount, \"Average Purchase Price\": AvgPurchasePriceSpender, \"Total Purchase Value\": PurchaseTotalSpender})\n",
    "\n",
    "#Sorted in Ascending False (Descending order)\n",
    "NewTopSpenders = TopSpenders.sort_values(['Total Purchase Value'], ascending=False).head()\n",
    "\n",
    "#Formating Average Purchase Total\n",
    "NewTopSpenders.style.format({\"Total Purchase Value\":\"${:,.2f}\", \"Average Purchase Price\":\"${:,.2f}\", \"Total Purchases Value\":\"${:,.2f}\"})"
   ]
  },
  {
   "cell_type": "markdown",
   "metadata": {},
   "source": [
    "Part 11: Most Popular Items\n",
    "\n",
    "For this portion of the excercise I had to focuse to get the following challanges solved:\n",
    "\n",
    "    1. Retrieve the Item ID, Item Name, and Item Price columns\n",
    "    2. Group by Item ID and Item Name. Perform calculations to   obtain purchase count, average item price, and total purchase value\n",
    "    3. Create a summary data frame to hold the results\n",
    "    4. Sort the purchase count column in descending order\n",
    "    5. Optional: give the displayed data cleaner formatting\n",
    "    6. Display a preview of the summary data frame\n",
    "    \n",
    " "
   ]
  },
  {
   "cell_type": "code",
   "execution_count": null,
   "metadata": {},
   "outputs": [],
   "source": [
    "#From the df I retrived the item ID, item name and item price\n",
    "PopularItems = df[['Item ID',\"Item Name\",\"Price\"]]\n",
    "PopularItems"
   ]
  },
  {
   "cell_type": "code",
   "execution_count": null,
   "metadata": {},
   "outputs": [],
   "source": [
    "#I then grouped by Item ID and Item Name. I did this to check if I was able to use the function properly. \n",
    "PopularItemsStats = PopularItems.groupby(['Item ID','Item Name'])\n",
    "PopularItemStatsCount = PopularItemsStats['Price'].count()\n",
    "PopularItemStatsCount"
   ]
  },
  {
   "cell_type": "code",
   "execution_count": null,
   "metadata": {},
   "outputs": [],
   "source": [
    "#I needed to create a data frame with the summary of the infomration\n",
    "PopularItems = df[['Item ID',\"Item Name\",\"Price\"]]\n",
    "\n",
    "#Group the items by item id and name\n",
    "PopularItemsStats = PopularItems.groupby(['Item ID','Item Name'])\n",
    "\n",
    "#count how mny times an item has been sold\n",
    "PopularItemStatsCount = PopularItemsStats['Price'].count()\n",
    "\n",
    "#Then I calculated the purchase vlaue per item\n",
    "PopularItemPurchaseValue = (PopularItemsStats['Price'].sum())\n",
    "\n",
    "#Then I was able to find the individual item price\n",
    "PopularItemPrice = PopularItemPurchaseValue/PopularItemStatsCount\n",
    "\n"
   ]
  },
  {
   "cell_type": "code",
   "execution_count": null,
   "metadata": {},
   "outputs": [],
   "source": [
    "#I created the data frame with the values obtained previousley\n",
    "MostPopularItems_df = pd.DataFrame({\"Purchase Count\": PopularItemStatsCount, \n",
    "                                   \"Item Price\": PopularItemPrice,\n",
    "                                   \"Total Purchase Value\": PopularItemPurchaseValue})\n",
    "\n",
    "Sorted_df = MostPopularItems_df.sort_values(['Purchase Count'], ascending=False).head()\n",
    "Sorted_df.style.format({\"Item Price\":\"${:,.2f}\",#It was very important to do the style format after the data frame was created so I could filter the data on the Purchase Value total as an interger and not with the $. So it lead me to do the same on the last df\n",
    "                                \"Total Purchase Value\":\"${:,.2f}\"})"
   ]
  },
  {
   "cell_type": "markdown",
   "metadata": {},
   "source": [
    "Part 12: Most Profitable Item\n",
    "\n",
    "For this last part of the challange I had to do the following:\n",
    "    1. Sort the above table by total purchase value in descending order\n",
    "    2. Optional: give the displayed data cleaner formatting\n",
    "    3. Display a preview of the data frame\n",
    " "
   ]
  },
  {
   "cell_type": "code",
   "execution_count": null,
   "metadata": {},
   "outputs": [],
   "source": [
    "MostProfitableItems_df = MostPopularItems_df\n",
    "Final_df = MostPopularItems_df.sort_values(['Total Purchase Value'], ascending = False).head()\n",
    "\n",
    "Final_df.style.format({\"Item Price\":\"${:,.2f}\",\n",
    "                                \"Total Purchase Value\":\"${:,.2f}\"})"
   ]
  },
  {
   "cell_type": "code",
   "execution_count": null,
   "metadata": {},
   "outputs": [],
   "source": []
  }
 ],
 "metadata": {
  "kernelspec": {
   "display_name": "Python 3",
   "language": "python",
   "name": "python3"
  },
  "language_info": {
   "codemirror_mode": {
    "name": "ipython",
    "version": 3
   },
   "file_extension": ".py",
   "mimetype": "text/x-python",
   "name": "python",
   "nbconvert_exporter": "python",
   "pygments_lexer": "ipython3",
   "version": "3.8.5"
  },
  "toc-autonumbering": true,
  "toc-showcode": false,
  "toc-showmarkdowntxt": true
 },
 "nbformat": 4,
 "nbformat_minor": 4
}
